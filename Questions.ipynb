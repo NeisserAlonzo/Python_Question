{
 "cells": [
  {
   "cell_type": "markdown",
   "metadata": {},
   "source": [
    "## Question 1"
   ]
  },
  {
   "cell_type": "code",
   "execution_count": null,
   "metadata": {},
   "outputs": [],
   "source": []
  },
  {
   "cell_type": "markdown",
   "metadata": {},
   "source": [
    "## Question 2"
   ]
  },
  {
   "cell_type": "code",
   "execution_count": null,
   "metadata": {},
   "outputs": [],
   "source": []
  },
  {
   "cell_type": "markdown",
   "metadata": {},
   "source": [
    "## Question 3\n",
    "In this question, the candidate with the highest number of votes wins\n",
    "If two or more candidates have the same number of votes, then the candidate whose name appears last alphabetically, wins.\n",
    "Consider the following votes : ['Glenn', 'Emily', 'Emily', 'Glenn']. Each candidate received 2 votes but Glenn comes later alphabetically than Emily, so return Glenn.\n",
    "def voteWinner(votes)\n",
    "function voteWinner should return a string with the name of the winner.\n",
    "\n",
    "* 4\n",
    "* Glenn\n",
    "* Emily\n",
    "* Emily\n",
    "* Glenn"
   ]
  },
  {
   "cell_type": "code",
   "execution_count": 23,
   "metadata": {},
   "outputs": [
    {
     "name": "stdout",
     "output_type": "stream",
     "text": [
      "4\n",
      "Glenn\n",
      "Glenn\n",
      "Emily\n",
      "Emily\n",
      "Glenn\n"
     ]
    }
   ],
   "source": [
    "class ElectionWinner:\n",
    "  @staticmethod\n",
    "  def voteWinner(votes):\n",
    "    #Please write your code here.\n",
    "    winner = {}\n",
    "\n",
    "    for vote in votes: \n",
    "        if vote not in winner:\n",
    "            winner[vote] = 1 \n",
    "        else:\n",
    "            winner[vote] += 1\n",
    "\n",
    "    winner_sorted = sorted(winner, reverse = True)    \n",
    "    \n",
    "    return winner_sorted[0]\n",
    "\n",
    "votes_count = int(input())\n",
    "votes = []\n",
    "for _ in range(votes_count):\n",
    "    votes_item=input()\n",
    "    votes.append(votes_item)\n",
    "print(ElectionWinner.voteWinner(votes))"
   ]
  },
  {
   "cell_type": "code",
   "execution_count": null,
   "metadata": {},
   "outputs": [],
   "source": []
  }
 ],
 "metadata": {
  "kernelspec": {
   "display_name": "Python 3",
   "language": "python",
   "name": "python3"
  },
  "language_info": {
   "codemirror_mode": {
    "name": "ipython",
    "version": 3
   },
   "file_extension": ".py",
   "mimetype": "text/x-python",
   "name": "python",
   "nbconvert_exporter": "python",
   "pygments_lexer": "ipython3",
   "version": "3.6.5"
  }
 },
 "nbformat": 4,
 "nbformat_minor": 2
}
